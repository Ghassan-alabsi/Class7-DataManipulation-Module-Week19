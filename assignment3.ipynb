{
 "cells": [
  {
   "attachments": {},
   "cell_type": "markdown",
   "metadata": {},
   "source": [
    "## Data Manipulation module\n",
    "### Homework assignment 3\n",
    "\n",
    "Welcome to the first homework assignment of the data manipulation module. In this assignment you will be working with advanced manipulations for Pandas DataFrames. \n",
    "\n",
    "### Instructions\n",
    "Read the exercises carefully and implement the requested functionality. Add your code in the cells provided with `YOUR CODE HERE`. You can add cells if you need to.\n",
    "\n",
    "### Hand-in\n",
    "To hand in your assignment, fork this notebook and commit your changes, then make a pull request to the original repository. The deadline for handing in the assignment is **Wednesday 01-02 23:59**."
   ]
  },
  {
   "cell_type": "code",
   "execution_count": null,
   "metadata": {},
   "outputs": [],
   "source": [
    "import pandas as pd\n",
    "import numpy as np"
   ]
  },
  {
   "attachments": {},
   "cell_type": "markdown",
   "metadata": {},
   "source": [
    "Download the `country_vaccinations.csv` file from the following [kaggle page](https://www.kaggle.com/datasets/gpreda/covid-world-vaccination-progress). We load it in in the following cell, make sure to set the correct path. The rest of the assignment you will be using this dataframe!"
   ]
  },
  {
   "cell_type": "code",
   "execution_count": null,
   "metadata": {},
   "outputs": [],
   "source": [
    "df = pd.read_csv(\"/path/to/country_vaccinations.csv\")"
   ]
  },
  {
   "attachments": {},
   "cell_type": "markdown",
   "metadata": {},
   "source": [
    "1. Print some statistics of the dataframe, like the column names and the stats per column, to get a feel for the data."
   ]
  },
  {
   "cell_type": "code",
   "execution_count": null,
   "metadata": {},
   "outputs": [],
   "source": [
    "# YOUR CODE HERE"
   ]
  },
  {
   "attachments": {},
   "cell_type": "markdown",
   "metadata": {},
   "source": [
    "2. Pivot the dataframe to have the date as the index. The columns should be the country names. The values should be the daily vaccinations per million."
   ]
  },
  {
   "cell_type": "code",
   "execution_count": null,
   "metadata": {},
   "outputs": [],
   "source": [
    "# YOUR CODE HERE"
   ]
  },
  {
   "attachments": {},
   "cell_type": "markdown",
   "metadata": {},
   "source": [
    "3. Convert the date index to datetime format."
   ]
  },
  {
   "cell_type": "code",
   "execution_count": null,
   "metadata": {},
   "outputs": [],
   "source": [
    "# YOUR CODE HERE"
   ]
  },
  {
   "attachments": {},
   "cell_type": "markdown",
   "metadata": {},
   "source": [
    "4. Create a new column with the month of the date. You might have to do some googling about the datetime format to find out how to do this."
   ]
  },
  {
   "cell_type": "code",
   "execution_count": null,
   "metadata": {},
   "outputs": [],
   "source": [
    "# YOUR CODE HERE"
   ]
  },
  {
   "attachments": {},
   "cell_type": "markdown",
   "metadata": {},
   "source": [
    "5. Per country calculate the average daily vaccinations per million for each month. The result should be a dataframe with the country names as the index and the months as the columns. The values should be the average daily vaccinations per million. You might need to stack or pivot the table to obtain the correct format."
   ]
  },
  {
   "cell_type": "code",
   "execution_count": null,
   "metadata": {},
   "outputs": [],
   "source": [
    "# YOUR CODE HERE"
   ]
  },
  {
   "attachments": {},
   "cell_type": "markdown",
   "metadata": {},
   "source": [
    "6. Now we will try to obtain the same result, but in one go from the original DataFrame. To do this, take the original dataframe and add the month column as before. Then use Pandas pivot_table method with the correct aggregation function to obtain the same result. "
   ]
  },
  {
   "cell_type": "code",
   "execution_count": null,
   "metadata": {},
   "outputs": [],
   "source": [
    "# YOUR CODE HERE"
   ]
  },
  {
   "cell_type": "markdown",
   "metadata": {},
   "source": []
  },
  {
   "attachments": {},
   "cell_type": "markdown",
   "metadata": {},
   "source": [
    "7. Now take the dataframe you obtained in exercise 4. Rerun some cells if you need or copy paste some code. We want to get back the original format with a ranged index (0, 1, 2, ...) and a column with country names, a column with the date and a column with the month. Use a combination of stacking, unstacking and reseting the index to obtain this result. "
   ]
  },
  {
   "cell_type": "code",
   "execution_count": null,
   "metadata": {},
   "outputs": [],
   "source": [
    "# YOUR CODE HERE"
   ]
  },
  {
   "attachments": {},
   "cell_type": "markdown",
   "metadata": {},
   "source": [
    "8. Obtain the same result as in exercise 7, but now use the melt method to obtain the result."
   ]
  },
  {
   "cell_type": "code",
   "execution_count": null,
   "metadata": {},
   "outputs": [],
   "source": [
    "# YOUR CODE HERE"
   ]
  }
 ],
 "metadata": {
  "kernelspec": {
   "display_name": "Python 3",
   "language": "python",
   "name": "python3"
  },
  "language_info": {
   "name": "python",
   "version": "3.11.0 (main, Oct 24 2022, 19:55:51) [GCC 9.4.0]"
  },
  "orig_nbformat": 4,
  "vscode": {
   "interpreter": {
    "hash": "ca3ed784184f1b3bb7c3539bfb45e71710cd27667424f92c2d5bb4df9c107c23"
   }
  }
 },
 "nbformat": 4,
 "nbformat_minor": 2
}
